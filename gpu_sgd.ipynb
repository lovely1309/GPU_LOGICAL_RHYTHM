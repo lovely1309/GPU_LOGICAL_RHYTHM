{
 "cells": [
  {
   "cell_type": "code",
   "execution_count": 28,
   "metadata": {
    "colab": {},
    "colab_type": "code",
    "id": "bUuGwOy4vCR0"
   },
   "outputs": [],
   "source": [
    "import pandas \n",
    "import numpy\n",
    "\n",
    "from sklearn.ensemble import RandomForestRegressor\n",
    "from sklearn.tree import DecisionTreeRegressor\n",
    "from sklearn.ensemble import GradientBoostingRegressor\n",
    "\n",
    "import numpy as np\n",
    "import seaborn as sns\n",
    "import pandas as pd\n",
    "import matplotlib.pyplot as plt\n",
    "from scipy import stats\n",
    "%matplotlib inline\n",
    "from sklearn.feature_selection import RFE\n",
    "from sklearn.ensemble import ExtraTreesRegressor\n",
    "from sklearn.metrics import mean_squared_error\n",
    "from math import sqrt\n",
    "from sklearn.model_selection import train_test_split,GridSearchCV\n",
    "from sklearn.ensemble import AdaBoostRegressor\n",
    "from sklearn.linear_model import SGDRegressor\n",
    "import matplotlib.pyplot as plt\n",
    "from pandas.tools.plotting import scatter_matrix\n",
    "from sklearn.preprocessing import MinMaxScaler\n",
    "from sklearn.linear_model import LinearRegression\n",
    "from sklearn.linear_model import Ridge\n",
    "from sklearn.preprocessing import StandardScaler\n",
    "from sklearn.linear_model import Lasso\n",
    "from sklearn.linear_model import ElasticNet\n",
    "from sklearn.ensemble import BaggingRegressor\n",
    "from sklearn.ensemble import RandomForestRegressor\n",
    "from sklearn.ensemble import ExtraTreesRegressor\n",
    "from sklearn.tree import DecisionTreeRegressor\n",
    "from sklearn.neighbors import KNeighborsRegressor\n",
    "from sklearn.svm import SVR\n",
    "from sklearn.metrics import explained_variance_score\n",
    "from sklearn.metrics import mean_absolute_error\n",
    "from sklearn import cross_validation, tree, linear_model\n",
    "from sklearn.model_selection import train_test_split\n",
    "from sklearn.model_selection import cross_val_score\n",
    "from sklearn import ensemble\n",
    "from sklearn import datasets\n",
    "from sklearn.utils import shuffle\n",
    "from sklearn.ensemble import GradientBoostingClassifier\n",
    "%matplotlib inline"
   ]
  },
  {
   "cell_type": "code",
   "execution_count": 29,
   "metadata": {
    "colab": {},
    "colab_type": "code",
    "id": "Ac1U3ffjvOeF"
   },
   "outputs": [],
   "source": [
    "seed = 7\n",
    "numpy.random.seed(seed)"
   ]
  },
  {
   "cell_type": "code",
   "execution_count": 30,
   "metadata": {
    "colab": {
     "base_uri": "https://localhost:8080/",
     "height": 1105
    },
    "colab_type": "code",
    "id": "631u9UufmJUe",
    "outputId": "c0cb5d30-86d0-4680-9e09-04d04aee8c64"
   },
   "outputs": [],
   "source": [
    "\n",
    "df=pandas.read_csv(\"train(1).csv\")\n",
    "#df=pandas.read_csv(\"f.csv\")"
   ]
  },
  {
   "cell_type": "code",
   "execution_count": 31,
   "metadata": {},
   "outputs": [
    {
     "data": {
      "text/html": [
       "<div>\n",
       "<style scoped>\n",
       "    .dataframe tbody tr th:only-of-type {\n",
       "        vertical-align: middle;\n",
       "    }\n",
       "\n",
       "    .dataframe tbody tr th {\n",
       "        vertical-align: top;\n",
       "    }\n",
       "\n",
       "    .dataframe thead th {\n",
       "        text-align: right;\n",
       "    }\n",
       "</style>\n",
       "<table border=\"1\" class=\"dataframe\">\n",
       "  <thead>\n",
       "    <tr style=\"text-align: right;\">\n",
       "      <th></th>\n",
       "      <th>MWG</th>\n",
       "      <th>NWG</th>\n",
       "      <th>KWG</th>\n",
       "      <th>MDIMC</th>\n",
       "      <th>NDIMC</th>\n",
       "      <th>MDIMA</th>\n",
       "      <th>NDIMB</th>\n",
       "      <th>KWI</th>\n",
       "      <th>VWM</th>\n",
       "      <th>VWN</th>\n",
       "      <th>STRM</th>\n",
       "      <th>STRN</th>\n",
       "      <th>SA</th>\n",
       "      <th>SB</th>\n",
       "      <th>Run1 (ms)</th>\n",
       "      <th>Run2 (ms)</th>\n",
       "      <th>Run3 (ms)</th>\n",
       "      <th>Run4 (ms)</th>\n",
       "    </tr>\n",
       "  </thead>\n",
       "  <tbody>\n",
       "    <tr>\n",
       "      <th>0</th>\n",
       "      <td>128</td>\n",
       "      <td>128</td>\n",
       "      <td>16</td>\n",
       "      <td>16</td>\n",
       "      <td>16</td>\n",
       "      <td>16</td>\n",
       "      <td>16</td>\n",
       "      <td>2</td>\n",
       "      <td>1</td>\n",
       "      <td>1</td>\n",
       "      <td>0</td>\n",
       "      <td>0</td>\n",
       "      <td>0</td>\n",
       "      <td>0</td>\n",
       "      <td>287.87</td>\n",
       "      <td>288.66</td>\n",
       "      <td>289.45</td>\n",
       "      <td>288.24</td>\n",
       "    </tr>\n",
       "    <tr>\n",
       "      <th>1</th>\n",
       "      <td>128</td>\n",
       "      <td>128</td>\n",
       "      <td>16</td>\n",
       "      <td>16</td>\n",
       "      <td>16</td>\n",
       "      <td>16</td>\n",
       "      <td>16</td>\n",
       "      <td>2</td>\n",
       "      <td>1</td>\n",
       "      <td>1</td>\n",
       "      <td>0</td>\n",
       "      <td>0</td>\n",
       "      <td>0</td>\n",
       "      <td>1</td>\n",
       "      <td>241.13</td>\n",
       "      <td>247.84</td>\n",
       "      <td>248.27</td>\n",
       "      <td>247.49</td>\n",
       "    </tr>\n",
       "    <tr>\n",
       "      <th>2</th>\n",
       "      <td>128</td>\n",
       "      <td>128</td>\n",
       "      <td>16</td>\n",
       "      <td>16</td>\n",
       "      <td>16</td>\n",
       "      <td>16</td>\n",
       "      <td>16</td>\n",
       "      <td>2</td>\n",
       "      <td>1</td>\n",
       "      <td>1</td>\n",
       "      <td>0</td>\n",
       "      <td>0</td>\n",
       "      <td>1</td>\n",
       "      <td>1</td>\n",
       "      <td>148.12</td>\n",
       "      <td>149.99</td>\n",
       "      <td>149.90</td>\n",
       "      <td>150.14</td>\n",
       "    </tr>\n",
       "    <tr>\n",
       "      <th>3</th>\n",
       "      <td>128</td>\n",
       "      <td>128</td>\n",
       "      <td>16</td>\n",
       "      <td>16</td>\n",
       "      <td>16</td>\n",
       "      <td>16</td>\n",
       "      <td>16</td>\n",
       "      <td>2</td>\n",
       "      <td>1</td>\n",
       "      <td>1</td>\n",
       "      <td>0</td>\n",
       "      <td>1</td>\n",
       "      <td>0</td>\n",
       "      <td>0</td>\n",
       "      <td>301.40</td>\n",
       "      <td>302.43</td>\n",
       "      <td>302.70</td>\n",
       "      <td>301.94</td>\n",
       "    </tr>\n",
       "    <tr>\n",
       "      <th>4</th>\n",
       "      <td>128</td>\n",
       "      <td>128</td>\n",
       "      <td>16</td>\n",
       "      <td>16</td>\n",
       "      <td>16</td>\n",
       "      <td>16</td>\n",
       "      <td>16</td>\n",
       "      <td>2</td>\n",
       "      <td>1</td>\n",
       "      <td>1</td>\n",
       "      <td>0</td>\n",
       "      <td>1</td>\n",
       "      <td>1</td>\n",
       "      <td>0</td>\n",
       "      <td>244.74</td>\n",
       "      <td>251.80</td>\n",
       "      <td>252.15</td>\n",
       "      <td>251.04</td>\n",
       "    </tr>\n",
       "  </tbody>\n",
       "</table>\n",
       "</div>"
      ],
      "text/plain": [
       "   MWG  NWG  KWG  MDIMC  NDIMC  MDIMA  NDIMB  KWI  VWM  VWN  STRM  STRN  SA  \\\n",
       "0  128  128   16     16     16     16     16    2    1    1     0     0   0   \n",
       "1  128  128   16     16     16     16     16    2    1    1     0     0   0   \n",
       "2  128  128   16     16     16     16     16    2    1    1     0     0   1   \n",
       "3  128  128   16     16     16     16     16    2    1    1     0     1   0   \n",
       "4  128  128   16     16     16     16     16    2    1    1     0     1   1   \n",
       "\n",
       "   SB  Run1 (ms)  Run2 (ms)  Run3 (ms)  Run4 (ms)  \n",
       "0   0     287.87     288.66     289.45     288.24  \n",
       "1   1     241.13     247.84     248.27     247.49  \n",
       "2   1     148.12     149.99     149.90     150.14  \n",
       "3   0     301.40     302.43     302.70     301.94  \n",
       "4   0     244.74     251.80     252.15     251.04  "
      ]
     },
     "execution_count": 31,
     "metadata": {},
     "output_type": "execute_result"
    }
   ],
   "source": [
    "df.head()"
   ]
  },
  {
   "cell_type": "code",
   "execution_count": 32,
   "metadata": {},
   "outputs": [
    {
     "data": {
      "text/html": [
       "<div>\n",
       "<style scoped>\n",
       "    .dataframe tbody tr th:only-of-type {\n",
       "        vertical-align: middle;\n",
       "    }\n",
       "\n",
       "    .dataframe tbody tr th {\n",
       "        vertical-align: top;\n",
       "    }\n",
       "\n",
       "    .dataframe thead th {\n",
       "        text-align: right;\n",
       "    }\n",
       "</style>\n",
       "<table border=\"1\" class=\"dataframe\">\n",
       "  <thead>\n",
       "    <tr style=\"text-align: right;\">\n",
       "      <th></th>\n",
       "      <th>MWG</th>\n",
       "      <th>NWG</th>\n",
       "      <th>KWG</th>\n",
       "      <th>MDIMC</th>\n",
       "      <th>NDIMC</th>\n",
       "      <th>MDIMA</th>\n",
       "      <th>NDIMB</th>\n",
       "      <th>KWI</th>\n",
       "      <th>VWM</th>\n",
       "      <th>VWN</th>\n",
       "      <th>STRM</th>\n",
       "      <th>STRN</th>\n",
       "      <th>SA</th>\n",
       "      <th>SB</th>\n",
       "      <th>Run1 (ms)</th>\n",
       "      <th>Run2 (ms)</th>\n",
       "      <th>Run3 (ms)</th>\n",
       "      <th>Run4 (ms)</th>\n",
       "    </tr>\n",
       "  </thead>\n",
       "  <tbody>\n",
       "    <tr>\n",
       "      <th>count</th>\n",
       "      <td>200000.000000</td>\n",
       "      <td>200000.000000</td>\n",
       "      <td>200000.000000</td>\n",
       "      <td>200000.000000</td>\n",
       "      <td>200000.000000</td>\n",
       "      <td>200000.000000</td>\n",
       "      <td>200000.000000</td>\n",
       "      <td>200000.000000</td>\n",
       "      <td>200000.000000</td>\n",
       "      <td>200000.00000</td>\n",
       "      <td>200000.000000</td>\n",
       "      <td>200000.000000</td>\n",
       "      <td>200000.00000</td>\n",
       "      <td>200000.000000</td>\n",
       "      <td>200000.000000</td>\n",
       "      <td>200000.000000</td>\n",
       "      <td>200000.000000</td>\n",
       "      <td>200000.000000</td>\n",
       "    </tr>\n",
       "    <tr>\n",
       "      <th>mean</th>\n",
       "      <td>80.449760</td>\n",
       "      <td>80.491200</td>\n",
       "      <td>25.504240</td>\n",
       "      <td>13.939880</td>\n",
       "      <td>13.935520</td>\n",
       "      <td>17.348480</td>\n",
       "      <td>17.379280</td>\n",
       "      <td>4.999550</td>\n",
       "      <td>2.452715</td>\n",
       "      <td>2.45097</td>\n",
       "      <td>0.499680</td>\n",
       "      <td>0.499865</td>\n",
       "      <td>0.49906</td>\n",
       "      <td>0.499925</td>\n",
       "      <td>217.998110</td>\n",
       "      <td>217.928765</td>\n",
       "      <td>217.883455</td>\n",
       "      <td>217.880732</td>\n",
       "    </tr>\n",
       "    <tr>\n",
       "      <th>std</th>\n",
       "      <td>42.481567</td>\n",
       "      <td>42.457207</td>\n",
       "      <td>7.857326</td>\n",
       "      <td>7.878135</td>\n",
       "      <td>7.876161</td>\n",
       "      <td>9.379925</td>\n",
       "      <td>9.384725</td>\n",
       "      <td>3.000007</td>\n",
       "      <td>1.957956</td>\n",
       "      <td>1.95554</td>\n",
       "      <td>0.500001</td>\n",
       "      <td>0.500001</td>\n",
       "      <td>0.50000</td>\n",
       "      <td>0.500001</td>\n",
       "      <td>369.398349</td>\n",
       "      <td>369.070383</td>\n",
       "      <td>369.058931</td>\n",
       "      <td>369.081649</td>\n",
       "    </tr>\n",
       "    <tr>\n",
       "      <th>min</th>\n",
       "      <td>16.000000</td>\n",
       "      <td>16.000000</td>\n",
       "      <td>16.000000</td>\n",
       "      <td>8.000000</td>\n",
       "      <td>8.000000</td>\n",
       "      <td>8.000000</td>\n",
       "      <td>8.000000</td>\n",
       "      <td>2.000000</td>\n",
       "      <td>1.000000</td>\n",
       "      <td>1.00000</td>\n",
       "      <td>0.000000</td>\n",
       "      <td>0.000000</td>\n",
       "      <td>0.00000</td>\n",
       "      <td>0.000000</td>\n",
       "      <td>13.290000</td>\n",
       "      <td>13.250000</td>\n",
       "      <td>13.360000</td>\n",
       "      <td>13.370000</td>\n",
       "    </tr>\n",
       "    <tr>\n",
       "      <th>25%</th>\n",
       "      <td>32.000000</td>\n",
       "      <td>32.000000</td>\n",
       "      <td>16.000000</td>\n",
       "      <td>8.000000</td>\n",
       "      <td>8.000000</td>\n",
       "      <td>8.000000</td>\n",
       "      <td>8.000000</td>\n",
       "      <td>2.000000</td>\n",
       "      <td>1.000000</td>\n",
       "      <td>1.00000</td>\n",
       "      <td>0.000000</td>\n",
       "      <td>0.000000</td>\n",
       "      <td>0.00000</td>\n",
       "      <td>0.000000</td>\n",
       "      <td>40.690000</td>\n",
       "      <td>40.750000</td>\n",
       "      <td>40.690000</td>\n",
       "      <td>40.680000</td>\n",
       "    </tr>\n",
       "    <tr>\n",
       "      <th>50%</th>\n",
       "      <td>64.000000</td>\n",
       "      <td>64.000000</td>\n",
       "      <td>32.000000</td>\n",
       "      <td>8.000000</td>\n",
       "      <td>8.000000</td>\n",
       "      <td>16.000000</td>\n",
       "      <td>16.000000</td>\n",
       "      <td>2.000000</td>\n",
       "      <td>2.000000</td>\n",
       "      <td>2.00000</td>\n",
       "      <td>0.000000</td>\n",
       "      <td>0.000000</td>\n",
       "      <td>0.00000</td>\n",
       "      <td>0.000000</td>\n",
       "      <td>69.900000</td>\n",
       "      <td>70.000000</td>\n",
       "      <td>69.870000</td>\n",
       "      <td>69.900000</td>\n",
       "    </tr>\n",
       "    <tr>\n",
       "      <th>75%</th>\n",
       "      <td>128.000000</td>\n",
       "      <td>128.000000</td>\n",
       "      <td>32.000000</td>\n",
       "      <td>16.000000</td>\n",
       "      <td>16.000000</td>\n",
       "      <td>32.000000</td>\n",
       "      <td>32.000000</td>\n",
       "      <td>8.000000</td>\n",
       "      <td>4.000000</td>\n",
       "      <td>4.00000</td>\n",
       "      <td>1.000000</td>\n",
       "      <td>1.000000</td>\n",
       "      <td>1.00000</td>\n",
       "      <td>1.000000</td>\n",
       "      <td>228.910000</td>\n",
       "      <td>228.580000</td>\n",
       "      <td>228.602500</td>\n",
       "      <td>228.570000</td>\n",
       "    </tr>\n",
       "    <tr>\n",
       "      <th>max</th>\n",
       "      <td>128.000000</td>\n",
       "      <td>128.000000</td>\n",
       "      <td>32.000000</td>\n",
       "      <td>32.000000</td>\n",
       "      <td>32.000000</td>\n",
       "      <td>32.000000</td>\n",
       "      <td>32.000000</td>\n",
       "      <td>8.000000</td>\n",
       "      <td>8.000000</td>\n",
       "      <td>8.00000</td>\n",
       "      <td>1.000000</td>\n",
       "      <td>1.000000</td>\n",
       "      <td>1.00000</td>\n",
       "      <td>1.000000</td>\n",
       "      <td>3333.920000</td>\n",
       "      <td>3375.420000</td>\n",
       "      <td>3397.080000</td>\n",
       "      <td>3360.520000</td>\n",
       "    </tr>\n",
       "  </tbody>\n",
       "</table>\n",
       "</div>"
      ],
      "text/plain": [
       "                 MWG            NWG            KWG          MDIMC  \\\n",
       "count  200000.000000  200000.000000  200000.000000  200000.000000   \n",
       "mean       80.449760      80.491200      25.504240      13.939880   \n",
       "std        42.481567      42.457207       7.857326       7.878135   \n",
       "min        16.000000      16.000000      16.000000       8.000000   \n",
       "25%        32.000000      32.000000      16.000000       8.000000   \n",
       "50%        64.000000      64.000000      32.000000       8.000000   \n",
       "75%       128.000000     128.000000      32.000000      16.000000   \n",
       "max       128.000000     128.000000      32.000000      32.000000   \n",
       "\n",
       "               NDIMC          MDIMA          NDIMB            KWI  \\\n",
       "count  200000.000000  200000.000000  200000.000000  200000.000000   \n",
       "mean       13.935520      17.348480      17.379280       4.999550   \n",
       "std         7.876161       9.379925       9.384725       3.000007   \n",
       "min         8.000000       8.000000       8.000000       2.000000   \n",
       "25%         8.000000       8.000000       8.000000       2.000000   \n",
       "50%         8.000000      16.000000      16.000000       2.000000   \n",
       "75%        16.000000      32.000000      32.000000       8.000000   \n",
       "max        32.000000      32.000000      32.000000       8.000000   \n",
       "\n",
       "                 VWM           VWN           STRM           STRN  \\\n",
       "count  200000.000000  200000.00000  200000.000000  200000.000000   \n",
       "mean        2.452715       2.45097       0.499680       0.499865   \n",
       "std         1.957956       1.95554       0.500001       0.500001   \n",
       "min         1.000000       1.00000       0.000000       0.000000   \n",
       "25%         1.000000       1.00000       0.000000       0.000000   \n",
       "50%         2.000000       2.00000       0.000000       0.000000   \n",
       "75%         4.000000       4.00000       1.000000       1.000000   \n",
       "max         8.000000       8.00000       1.000000       1.000000   \n",
       "\n",
       "                 SA             SB      Run1 (ms)      Run2 (ms)  \\\n",
       "count  200000.00000  200000.000000  200000.000000  200000.000000   \n",
       "mean        0.49906       0.499925     217.998110     217.928765   \n",
       "std         0.50000       0.500001     369.398349     369.070383   \n",
       "min         0.00000       0.000000      13.290000      13.250000   \n",
       "25%         0.00000       0.000000      40.690000      40.750000   \n",
       "50%         0.00000       0.000000      69.900000      70.000000   \n",
       "75%         1.00000       1.000000     228.910000     228.580000   \n",
       "max         1.00000       1.000000    3333.920000    3375.420000   \n",
       "\n",
       "           Run3 (ms)      Run4 (ms)  \n",
       "count  200000.000000  200000.000000  \n",
       "mean      217.883455     217.880732  \n",
       "std       369.058931     369.081649  \n",
       "min        13.360000      13.370000  \n",
       "25%        40.690000      40.680000  \n",
       "50%        69.870000      69.900000  \n",
       "75%       228.602500     228.570000  \n",
       "max      3397.080000    3360.520000  "
      ]
     },
     "execution_count": 32,
     "metadata": {},
     "output_type": "execute_result"
    }
   ],
   "source": [
    "df.describe()"
   ]
  },
  {
   "cell_type": "code",
   "execution_count": 33,
   "metadata": {
    "colab": {
     "base_uri": "https://localhost:8080/",
     "height": 510
    },
    "colab_type": "code",
    "id": "UF6u0vwHz4gi",
    "outputId": "174d98cf-6709-4a89-a0b5-9cd4dd5acbd9"
   },
   "outputs": [
    {
     "name": "stdout",
     "output_type": "stream",
     "text": [
      "                MWG       NWG       KWG     MDIMC     NDIMC     MDIMA  \\\n",
      "MWG        1.000000  0.001051  0.009029  0.105391 -0.008573  0.158692   \n",
      "NWG        0.001051  1.000000  0.009568 -0.006963  0.105328  0.014930   \n",
      "KWG        0.009029  0.009568  1.000000  0.147256  0.149286 -0.034504   \n",
      "MDIMC      0.105391 -0.006963  0.147256  1.000000 -0.209356  0.196806   \n",
      "NDIMC     -0.008573  0.105328  0.149286 -0.209356  1.000000  0.083896   \n",
      "MDIMA      0.158692  0.014930 -0.034504  0.196806  0.083896  1.000000   \n",
      "NDIMB      0.015913  0.158350 -0.034516  0.084195  0.196434  0.087593   \n",
      "KWI        0.000872  0.000145 -0.000664 -0.001425 -0.002619  0.000678   \n",
      "VWM        0.353168 -0.001766 -0.012001 -0.136008  0.012576 -0.203317   \n",
      "VWN       -0.001284  0.354439 -0.011291  0.010672 -0.133261 -0.019162   \n",
      "STRM       0.001054  0.001662  0.001232  0.000681 -0.000696 -0.001546   \n",
      "STRN       0.000206 -0.000050  0.000378  0.001640 -0.000477  0.001096   \n",
      "SA        -0.001419  0.001333  0.001429  0.000600  0.000015  0.000936   \n",
      "SB        -0.000209  0.000345  0.001780  0.002301 -0.002284  0.000320   \n",
      "Run1 (ms)  0.351931  0.320389  0.010811 -0.222143 -0.214985 -0.006275   \n",
      "Run2 (ms)  0.352303  0.320381  0.010450 -0.221846 -0.214693 -0.006230   \n",
      "Run3 (ms)  0.352336  0.320519  0.010459 -0.221892 -0.214597 -0.006184   \n",
      "Run4 (ms)  0.352339  0.320432  0.010415 -0.221862 -0.214641 -0.006198   \n",
      "\n",
      "              NDIMB       KWI       VWM       VWN      STRM      STRN  \\\n",
      "MWG        0.015913  0.000872  0.353168 -0.001284  0.001054  0.000206   \n",
      "NWG        0.158350  0.000145 -0.001766  0.354439  0.001662 -0.000050   \n",
      "KWG       -0.034516 -0.000664 -0.012001 -0.011291  0.001232  0.000378   \n",
      "MDIMC      0.084195 -0.001425 -0.136008  0.010672  0.000681  0.001640   \n",
      "NDIMC      0.196434 -0.002619  0.012576 -0.133261 -0.000696 -0.000477   \n",
      "MDIMA      0.087593  0.000678 -0.203317 -0.019162 -0.001546  0.001096   \n",
      "NDIMB      1.000000 -0.001316 -0.017708 -0.202883  0.001330  0.000159   \n",
      "KWI       -0.001316  1.000000 -0.000111  0.001201  0.000150 -0.000960   \n",
      "VWM       -0.017708 -0.000111  1.000000 -0.000071  0.001724 -0.001590   \n",
      "VWN       -0.202883  0.001201 -0.000071  1.000000  0.000178  0.000425   \n",
      "STRM       0.001330  0.000150  0.001724  0.000178  1.000000  0.000470   \n",
      "STRN       0.000159 -0.000960 -0.001590  0.000425  0.000470  1.000000   \n",
      "SA        -0.000687 -0.000850 -0.001095 -0.000569  0.001379  0.000789   \n",
      "SB        -0.001990 -0.001140 -0.002057  0.001277  0.000390 -0.000620   \n",
      "Run1 (ms) -0.008157  0.033795  0.164502  0.144514 -0.012128 -0.001246   \n",
      "Run2 (ms) -0.008127  0.034287  0.164584  0.144430 -0.012165 -0.001224   \n",
      "Run3 (ms) -0.008048  0.034324  0.164610  0.144464 -0.012142 -0.001238   \n",
      "Run4 (ms) -0.008095  0.034298  0.164598  0.144466 -0.012148 -0.001221   \n",
      "\n",
      "                 SA        SB  Run1 (ms)  Run2 (ms)  Run3 (ms)  Run4 (ms)  \n",
      "MWG       -0.001419 -0.000209   0.351931   0.352303   0.352336   0.352339  \n",
      "NWG        0.001333  0.000345   0.320389   0.320381   0.320519   0.320432  \n",
      "KWG        0.001429  0.001780   0.010811   0.010450   0.010459   0.010415  \n",
      "MDIMC      0.000600  0.002301  -0.222143  -0.221846  -0.221892  -0.221862  \n",
      "NDIMC      0.000015 -0.002284  -0.214985  -0.214693  -0.214597  -0.214641  \n",
      "MDIMA      0.000936  0.000320  -0.006275  -0.006230  -0.006184  -0.006198  \n",
      "NDIMB     -0.000687 -0.001990  -0.008157  -0.008127  -0.008048  -0.008095  \n",
      "KWI       -0.000850 -0.001140   0.033795   0.034287   0.034324   0.034298  \n",
      "VWM       -0.001095 -0.002057   0.164502   0.164584   0.164610   0.164598  \n",
      "VWN       -0.000569  0.001277   0.144514   0.144430   0.144464   0.144466  \n",
      "STRM       0.001379  0.000390  -0.012128  -0.012165  -0.012142  -0.012148  \n",
      "STRN       0.000789 -0.000620  -0.001246  -0.001224  -0.001238  -0.001221  \n",
      "SA         1.000000 -0.000530   0.052502   0.051838   0.051790   0.051806  \n",
      "SB        -0.000530  1.000000   0.064183   0.063923   0.063935   0.063917  \n",
      "Run1 (ms)  0.052502  0.064183   1.000000   0.999940   0.999938   0.999940  \n",
      "Run2 (ms)  0.051838  0.063923   0.999940   1.000000   0.999982   0.999983  \n",
      "Run3 (ms)  0.051790  0.063935   0.999938   0.999982   1.000000   0.999982  \n",
      "Run4 (ms)  0.051806  0.063917   0.999940   0.999983   0.999982   1.000000  \n"
     ]
    }
   ],
   "source": [
    "print(df.corr(method='pearson'))"
   ]
  },
  {
   "cell_type": "code",
   "execution_count": 34,
   "metadata": {},
   "outputs": [
    {
     "data": {
      "text/plain": [
       "MWG          0\n",
       "NWG          0\n",
       "KWG          0\n",
       "MDIMC        0\n",
       "NDIMC        0\n",
       "MDIMA        0\n",
       "NDIMB        0\n",
       "KWI          0\n",
       "VWM          0\n",
       "VWN          0\n",
       "STRM         0\n",
       "STRN         0\n",
       "SA           0\n",
       "SB           0\n",
       "Run1 (ms)    0\n",
       "Run2 (ms)    0\n",
       "Run3 (ms)    0\n",
       "Run4 (ms)    0\n",
       "dtype: int64"
      ]
     },
     "execution_count": 34,
     "metadata": {},
     "output_type": "execute_result"
    }
   ],
   "source": [
    "df.isnull().sum()"
   ]
  },
  {
   "cell_type": "code",
   "execution_count": 35,
   "metadata": {},
   "outputs": [
    {
     "name": "stdout",
     "output_type": "stream",
     "text": [
      "[[<matplotlib.axes._subplots.AxesSubplot object at 0x7f410810c278>\n",
      "  <matplotlib.axes._subplots.AxesSubplot object at 0x7f41080c5e10>\n",
      "  <matplotlib.axes._subplots.AxesSubplot object at 0x7f410807c9b0>\n",
      "  <matplotlib.axes._subplots.AxesSubplot object at 0x7f4108037a90>]\n",
      " [<matplotlib.axes._subplots.AxesSubplot object at 0x7f41080505c0>\n",
      "  <matplotlib.axes._subplots.AxesSubplot object at 0x7f4108050390>\n",
      "  <matplotlib.axes._subplots.AxesSubplot object at 0x7f4103ff3048>\n",
      "  <matplotlib.axes._subplots.AxesSubplot object at 0x7f4103f57b38>]\n",
      " [<matplotlib.axes._subplots.AxesSubplot object at 0x7f4103f10ba8>\n",
      "  <matplotlib.axes._subplots.AxesSubplot object at 0x7f4103f3bb00>\n",
      "  <matplotlib.axes._subplots.AxesSubplot object at 0x7f4103efb6d8>\n",
      "  <matplotlib.axes._subplots.AxesSubplot object at 0x7f4103eb7208>]\n",
      " [<matplotlib.axes._subplots.AxesSubplot object at 0x7f4103e68d68>\n",
      "  <matplotlib.axes._subplots.AxesSubplot object at 0x7f4103e22908>\n",
      "  <matplotlib.axes._subplots.AxesSubplot object at 0x7f4103dcfd68>\n",
      "  <matplotlib.axes._subplots.AxesSubplot object at 0x7f4103d8a898>]\n",
      " [<matplotlib.axes._subplots.AxesSubplot object at 0x7f4103d455f8>\n",
      "  <matplotlib.axes._subplots.AxesSubplot object at 0x7f4103d020b8>\n",
      "  <matplotlib.axes._subplots.AxesSubplot object at 0x7f4103d56e80>\n",
      "  <matplotlib.axes._subplots.AxesSubplot object at 0x7f4103d31630>]]\n"
     ]
    },
    {
     "data": {
      "image/png": "[encoded data removed]",
      "text/plain": [
       "<matplotlib.figure.Figure at 0x7f410810ca90>"
      ]
     },
     "metadata": {},
     "output_type": "display_data"
    }
   ],
   "source": [
    "print(df.hist(figsize=(10,10)) ) "
   ]
  },
  {
   "cell_type": "code",
   "execution_count": 36,
   "metadata": {},
   "outputs": [],
   "source": [
    "X= df.iloc[:,0:14]\n",
    "y=df.iloc[:,14:15]\n"
   ]
  },
  {
   "cell_type": "code",
   "execution_count": 37,
   "metadata": {},
   "outputs": [],
   "source": [
    "scaler = StandardScaler()\n",
    "scaler.fit(X)\n",
    "X= scaler.transform(X)"
   ]
  },
  {
   "cell_type": "code",
   "execution_count": 38,
   "metadata": {},
   "outputs": [],
   "source": [
    "#we use log function which is in numpy\n",
    "y= np.log1p(y)/2\n"
   ]
  },
  {
   "cell_type": "code",
   "execution_count": 39,
   "metadata": {},
   "outputs": [
    {
     "data": {
      "text/html": [
       "<div>\n",
       "<style scoped>\n",
       "    .dataframe tbody tr th:only-of-type {\n",
       "        vertical-align: middle;\n",
       "    }\n",
       "\n",
       "    .dataframe tbody tr th {\n",
       "        vertical-align: top;\n",
       "    }\n",
       "\n",
       "    .dataframe thead th {\n",
       "        text-align: right;\n",
       "    }\n",
       "</style>\n",
       "<table border=\"1\" class=\"dataframe\">\n",
       "  <thead>\n",
       "    <tr style=\"text-align: right;\">\n",
       "      <th></th>\n",
       "      <th>Run1 (ms)</th>\n",
       "    </tr>\n",
       "  </thead>\n",
       "  <tbody>\n",
       "    <tr>\n",
       "      <th>0</th>\n",
       "      <td>2.832988</td>\n",
       "    </tr>\n",
       "    <tr>\n",
       "      <th>1</th>\n",
       "      <td>2.744737</td>\n",
       "    </tr>\n",
       "    <tr>\n",
       "      <th>2</th>\n",
       "      <td>2.502376</td>\n",
       "    </tr>\n",
       "    <tr>\n",
       "      <th>3</th>\n",
       "      <td>2.855875</td>\n",
       "    </tr>\n",
       "    <tr>\n",
       "      <th>4</th>\n",
       "      <td>2.752137</td>\n",
       "    </tr>\n",
       "  </tbody>\n",
       "</table>\n",
       "</div>"
      ],
      "text/plain": [
       "   Run1 (ms)\n",
       "0   2.832988\n",
       "1   2.744737\n",
       "2   2.502376\n",
       "3   2.855875\n",
       "4   2.752137"
      ]
     },
     "execution_count": 39,
     "metadata": {},
     "output_type": "execute_result"
    }
   ],
   "source": [
    "y.head()"
   ]
  },
  {
   "cell_type": "code",
   "execution_count": 40,
   "metadata": {},
   "outputs": [],
   "source": [
    "rng = numpy.random.RandomState(1)"
   ]
  },
  {
   "cell_type": "code",
   "execution_count": 41,
   "metadata": {},
   "outputs": [],
   "source": [
    "#from sklearn.model_selection import train_test_split\n",
    "\n",
    "X_train, X_test, y_train, y_test = train_test_split(X, y.values, test_size=0.2)#, random_state=19)\n",
    "\n",
    "\n"
   ]
  },
  {
   "cell_type": "code",
   "execution_count": 56,
   "metadata": {},
   "outputs": [],
   "source": [
    "clf = AdaBoostRegressor(RandomForestRegressor(max_depth=26),\n",
    "                          n_estimators=70, random_state=rng,learning_rate=1.0)"
   ]
  },
  {
   "cell_type": "code",
   "execution_count": null,
   "metadata": {},
   "outputs": [
    {
     "name": "stderr",
     "output_type": "stream",
     "text": [
      "/home/saurabh/anaconda3/lib/python3.6/site-packages/sklearn/utils/validation.py:578: DataConversionWarning: A column-vector y was passed when a 1d array was expected. Please change the shape of y to (n_samples, ), for example using ravel().\n",
      "  y = column_or_1d(y, warn=True)\n"
     ]
    }
   ],
   "source": [
    "\n",
    "clf.fit(X_train, y_train)\n"
   ]
  },
  {
   "cell_type": "code",
   "execution_count": null,
   "metadata": {},
   "outputs": [],
   "source": []
  },
  {
   "cell_type": "code",
   "execution_count": 55,
   "metadata": {},
   "outputs": [
    {
     "name": "stdout",
     "output_type": "stream",
     "text": [
      "424.20077687583176\n"
     ]
    }
   ],
   "source": [
    "#clf = linear_model.SGDRegressor(alpha= 0.01, learning_rate= 'optimal', loss= 'squared_loss', penalty= 'elasticnet')\n",
    "#clf.fit(X_train, y_train)\n",
    "predictions = clf.predict(X_test)\n",
    "predictions=numpy.expm1(predictions*2)\n",
    "    # Evaluate the model\n",
    "rms = sqrt(mean_squared_error(y_test, predictions))\n",
    "\n",
    "\n",
    "    \n",
    "print(rms)\n",
    "#predictions"
   ]
  },
  {
   "cell_type": "code",
   "execution_count": 15,
   "metadata": {},
   "outputs": [
    {
     "name": "stderr",
     "output_type": "stream",
     "text": [
      "/home/saurabh/anaconda3/lib/python3.6/site-packages/sklearn/linear_model/stochastic_gradient.py:128: FutureWarning: max_iter and tol parameters have been added in <class 'sklearn.linear_model.stochastic_gradient.SGDRegressor'> in 0.19. If both are left unset, they default to max_iter=5 and tol=None. If tol is not None, max_iter defaults to max_iter=1000. From 0.21, default max_iter will be 1000, and default tol will be 1e-3.\n",
      "  \"and default tol will be 1e-3.\" % type(self), FutureWarning)\n",
      "/home/saurabh/anaconda3/lib/python3.6/site-packages/sklearn/utils/validation.py:578: DataConversionWarning: A column-vector y was passed when a 1d array was expected. Please change the shape of y to (n_samples, ), for example using ravel().\n",
      "  y = column_or_1d(y, warn=True)\n"
     ]
    },
    {
     "data": {
      "text/plain": [
       "SGDRegressor(alpha=0.01, average=False, epsilon=0.1, eta0=0.01,\n",
       "       fit_intercept=True, l1_ratio=0.15, learning_rate='optimal',\n",
       "       loss='squared_loss', max_iter=None, n_iter=None,\n",
       "       penalty='elasticnet', power_t=0.25, random_state=None, shuffle=True,\n",
       "       tol=None, verbose=0, warm_start=False)"
      ]
     },
     "execution_count": 15,
     "metadata": {},
     "output_type": "execute_result"
    }
   ],
   "source": [
    "clf = linear_model.SGDRegressor(alpha= 0.01, learning_rate= 'optimal', loss= 'squared_loss', penalty= 'elasticnet')\n",
    "clf.fit(X, y)\n"
   ]
  },
  {
   "cell_type": "code",
   "execution_count": null,
   "metadata": {},
   "outputs": [],
   "source": [
    "clf = AdaBoostRegressor(RandomForestRegressor(max_depth=26),\n",
    "                          n_estimators=100, random_state=rng,learning_rate=1.0)"
   ]
  },
  {
   "cell_type": "code",
   "execution_count": 16,
   "metadata": {
    "colab": {
     "base_uri": "https://localhost:8080/",
     "height": 68
    },
    "colab_type": "code",
    "id": "7XUr16vU3hMe",
    "outputId": "8530a330-39be-4c05-ffb5-304c560242cd"
   },
   "outputs": [],
   "source": [
    "test=pandas.read_csv(\"test.csv\")"
   ]
  },
  {
   "cell_type": "code",
   "execution_count": 17,
   "metadata": {},
   "outputs": [
    {
     "data": {
      "text/html": [
       "<div>\n",
       "<style scoped>\n",
       "    .dataframe tbody tr th:only-of-type {\n",
       "        vertical-align: middle;\n",
       "    }\n",
       "\n",
       "    .dataframe tbody tr th {\n",
       "        vertical-align: top;\n",
       "    }\n",
       "\n",
       "    .dataframe thead th {\n",
       "        text-align: right;\n",
       "    }\n",
       "</style>\n",
       "<table border=\"1\" class=\"dataframe\">\n",
       "  <thead>\n",
       "    <tr style=\"text-align: right;\">\n",
       "      <th></th>\n",
       "      <th>Id</th>\n",
       "      <th>MWG</th>\n",
       "      <th>NWG</th>\n",
       "      <th>KWG</th>\n",
       "      <th>MDIMC</th>\n",
       "      <th>NDIMC</th>\n",
       "      <th>MDIMA</th>\n",
       "      <th>NDIMB</th>\n",
       "      <th>KWI</th>\n",
       "      <th>VWM</th>\n",
       "      <th>VWN</th>\n",
       "      <th>STRM</th>\n",
       "      <th>STRN</th>\n",
       "      <th>SA</th>\n",
       "      <th>SB</th>\n",
       "    </tr>\n",
       "  </thead>\n",
       "  <tbody>\n",
       "    <tr>\n",
       "      <th>0</th>\n",
       "      <td>Id_1</td>\n",
       "      <td>64</td>\n",
       "      <td>64</td>\n",
       "      <td>32</td>\n",
       "      <td>8</td>\n",
       "      <td>8</td>\n",
       "      <td>8</td>\n",
       "      <td>8</td>\n",
       "      <td>8</td>\n",
       "      <td>8</td>\n",
       "      <td>8</td>\n",
       "      <td>1</td>\n",
       "      <td>0</td>\n",
       "      <td>0</td>\n",
       "      <td>1</td>\n",
       "    </tr>\n",
       "    <tr>\n",
       "      <th>1</th>\n",
       "      <td>Id_2</td>\n",
       "      <td>64</td>\n",
       "      <td>64</td>\n",
       "      <td>32</td>\n",
       "      <td>8</td>\n",
       "      <td>8</td>\n",
       "      <td>8</td>\n",
       "      <td>8</td>\n",
       "      <td>8</td>\n",
       "      <td>8</td>\n",
       "      <td>4</td>\n",
       "      <td>1</td>\n",
       "      <td>1</td>\n",
       "      <td>0</td>\n",
       "      <td>0</td>\n",
       "    </tr>\n",
       "    <tr>\n",
       "      <th>2</th>\n",
       "      <td>Id_3</td>\n",
       "      <td>64</td>\n",
       "      <td>64</td>\n",
       "      <td>32</td>\n",
       "      <td>8</td>\n",
       "      <td>8</td>\n",
       "      <td>8</td>\n",
       "      <td>8</td>\n",
       "      <td>8</td>\n",
       "      <td>8</td>\n",
       "      <td>2</td>\n",
       "      <td>1</td>\n",
       "      <td>1</td>\n",
       "      <td>0</td>\n",
       "      <td>1</td>\n",
       "    </tr>\n",
       "    <tr>\n",
       "      <th>3</th>\n",
       "      <td>Id_4</td>\n",
       "      <td>64</td>\n",
       "      <td>64</td>\n",
       "      <td>32</td>\n",
       "      <td>8</td>\n",
       "      <td>8</td>\n",
       "      <td>8</td>\n",
       "      <td>8</td>\n",
       "      <td>8</td>\n",
       "      <td>8</td>\n",
       "      <td>2</td>\n",
       "      <td>1</td>\n",
       "      <td>0</td>\n",
       "      <td>1</td>\n",
       "      <td>0</td>\n",
       "    </tr>\n",
       "    <tr>\n",
       "      <th>4</th>\n",
       "      <td>Id_5</td>\n",
       "      <td>64</td>\n",
       "      <td>64</td>\n",
       "      <td>32</td>\n",
       "      <td>8</td>\n",
       "      <td>8</td>\n",
       "      <td>8</td>\n",
       "      <td>8</td>\n",
       "      <td>8</td>\n",
       "      <td>8</td>\n",
       "      <td>2</td>\n",
       "      <td>1</td>\n",
       "      <td>0</td>\n",
       "      <td>0</td>\n",
       "      <td>1</td>\n",
       "    </tr>\n",
       "  </tbody>\n",
       "</table>\n",
       "</div>"
      ],
      "text/plain": [
       "     Id  MWG  NWG  KWG  MDIMC  NDIMC  MDIMA  NDIMB  KWI  VWM  VWN  STRM  STRN  \\\n",
       "0  Id_1   64   64   32      8      8      8      8    8    8    8     1     0   \n",
       "1  Id_2   64   64   32      8      8      8      8    8    8    4     1     1   \n",
       "2  Id_3   64   64   32      8      8      8      8    8    8    2     1     1   \n",
       "3  Id_4   64   64   32      8      8      8      8    8    8    2     1     0   \n",
       "4  Id_5   64   64   32      8      8      8      8    8    8    2     1     0   \n",
       "\n",
       "   SA  SB  \n",
       "0   0   1  \n",
       "1   0   0  \n",
       "2   0   1  \n",
       "3   1   0  \n",
       "4   0   1  "
      ]
     },
     "execution_count": 17,
     "metadata": {},
     "output_type": "execute_result"
    }
   ],
   "source": [
    "test.head()"
   ]
  },
  {
   "cell_type": "code",
   "execution_count": 18,
   "metadata": {},
   "outputs": [
    {
     "data": {
      "text/plain": [
       "(41601, 15)"
      ]
     },
     "execution_count": 18,
     "metadata": {},
     "output_type": "execute_result"
    }
   ],
   "source": [
    "test.shape"
   ]
  },
  {
   "cell_type": "code",
   "execution_count": 19,
   "metadata": {},
   "outputs": [],
   "source": [
    "test1= test.iloc[:,1:16]\n",
    "#y=df.iloc[:,14:15]"
   ]
  },
  {
   "cell_type": "code",
   "execution_count": 20,
   "metadata": {},
   "outputs": [],
   "source": [
    "scaler = StandardScaler()\n",
    "scaler.fit(test1)\n",
    "X= scaler.transform(test1)"
   ]
  },
  {
   "cell_type": "code",
   "execution_count": 24,
   "metadata": {},
   "outputs": [],
   "source": [
    "predictions = clf.predict(X)\n",
    "\n",
    "predictions=numpy.expm1(predictions*2)\n"
   ]
  },
  {
   "cell_type": "code",
   "execution_count": 25,
   "metadata": {},
   "outputs": [
    {
     "name": "stdout",
     "output_type": "stream",
     "text": [
      "[132.6772078  146.89934647 144.95891088 ... 190.29590892 229.17574434\n",
      " 229.8186695 ]\n"
     ]
    }
   ],
   "source": [
    "print(predictions)"
   ]
  },
  {
   "cell_type": "code",
   "execution_count": 26,
   "metadata": {
    "colab": {
     "base_uri": "https://localhost:8080/",
     "height": 914
    },
    "colab_type": "code",
    "id": "9Ry9207EVsEq",
    "outputId": "524af8ee-7dfa-4450-9323-92b5d888a5eb"
   },
   "outputs": [],
   "source": [
    "#ans=pandas.read_csv(\"ans.csv\")\n",
    "ans=pandas.read_csv(\"mytest.csv\")\n",
    "#sampleSubmission = .values\n",
    "# print(ans)\n",
    "\n",
    "#X =sampleSubmission[:,0:1]\n",
    "raw_data={'Run1 (ms)' : predictions}\n",
    "#@ID={'Id':X}\n",
    "#ans.insert(1,'area', predictions, allow_duplicates=True)\n",
    "s = pandas.DataFrame(raw_data, columns = ['Run1 (ms)'])\n",
    "ans=pandas.concat([ans,s],axis=1)\n",
    "#ans['area'] = predictions\n",
    "ans.to_csv('mytest.csv')"
   ]
  },
  {
   "cell_type": "code",
   "execution_count": null,
   "metadata": {
    "colab": {
     "base_uri": "https://localhost:8080/",
     "height": 1969
    },
    "colab_type": "code",
    "id": "Lg9ZUCCtkzzt",
    "outputId": "0456073a-c94c-4259-fe95-7c2faf5cb233"
   },
   "outputs": [],
   "source": []
  },
  {
   "cell_type": "code",
   "execution_count": null,
   "metadata": {
    "colab": {},
    "colab_type": "code",
    "id": "BAhOlcg6cYKw"
   },
   "outputs": [],
   "source": [
    "#anss=pandas.read_csv(\"myteam.csv\")\n"
   ]
  },
  {
   "cell_type": "code",
   "execution_count": null,
   "metadata": {},
   "outputs": [],
   "source": []
  }
 ],
 "metadata": {
  "accelerator": "GPU",
  "colab": {
   "collapsed_sections": [],
   "name": "forest_fire.ipynb",
   "provenance": [],
   "version": "0.3.2"
  },
  "kernelspec": {
   "display_name": "Python 3",
   "language": "python",
   "name": "python3"
  },
  "language_info": {
   "codemirror_mode": {
    "name": "ipython",
    "version": 3
   },
   "file_extension": ".py",
   "mimetype": "text/x-python",
   "name": "python",
   "nbconvert_exporter": "python",
   "pygments_lexer": "ipython3",
   "version": "3.6.4"
  }
 },
 "nbformat": 4,
 "nbformat_minor": 1
}
