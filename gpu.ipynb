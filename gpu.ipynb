{
 "cells": [
  {
   "cell_type": "code",
   "execution_count": 1,
   "metadata": {
    "colab": {},
    "colab_type": "code",
    "id": "bUuGwOy4vCR0"
   },
   "outputs": [
    {
     "name": "stderr",
     "output_type": "stream",
     "text": [
      "/home/saurabh/anaconda3/lib/python3.6/site-packages/sklearn/cross_validation.py:41: DeprecationWarning: This module was deprecated in version 0.18 in favor of the model_selection module into which all the refactored classes and functions are moved. Also note that the interface of the new CV iterators are different from that of this module. This module will be removed in 0.20.\n",
      "  \"This module will be removed in 0.20.\", DeprecationWarning)\n"
     ]
    }
   ],
   "source": [
    "import pandas \n",
    "import numpy\n",
    "\n",
    "from sklearn.ensemble import RandomForestRegressor\n",
    "from sklearn.tree import DecisionTreeRegressor\n",
    "from sklearn.ensemble import GradientBoostingRegressor\n",
    "\n",
    "import numpy as np\n",
    "import seaborn as sns\n",
    "import pandas as pd\n",
    "import matplotlib.pyplot as plt\n",
    "from scipy import stats\n",
    "%matplotlib inline\n",
    "from sklearn.feature_selection import RFE\n",
    "from sklearn.ensemble import ExtraTreesRegressor\n",
    "from sklearn.metrics import mean_squared_error\n",
    "from math import sqrt\n",
    "from sklearn.model_selection import train_test_split\n",
    "from sklearn.ensemble import AdaBoostRegressor\n",
    "\n",
    "import matplotlib.pyplot as plt\n",
    "from pandas.tools.plotting import scatter_matrix\n",
    "from sklearn.preprocessing import MinMaxScaler\n",
    "from sklearn.linear_model import LinearRegression\n",
    "from sklearn.linear_model import Ridge\n",
    "from sklearn.preprocessing import StandardScaler\n",
    "from sklearn.linear_model import Lasso\n",
    "from sklearn.linear_model import ElasticNet\n",
    "from sklearn.ensemble import BaggingRegressor\n",
    "from sklearn.ensemble import RandomForestRegressor\n",
    "from sklearn.ensemble import ExtraTreesRegressor\n",
    "from sklearn.tree import DecisionTreeRegressor\n",
    "from sklearn.neighbors import KNeighborsRegressor\n",
    "from sklearn.svm import SVR\n",
    "from sklearn.metrics import explained_variance_score\n",
    "from sklearn.metrics import mean_absolute_error\n",
    "from sklearn import cross_validation, tree, linear_model\n",
    "from sklearn.model_selection import train_test_split\n",
    "from sklearn.model_selection import cross_val_score\n",
    "from sklearn import ensemble\n",
    "from sklearn import datasets\n",
    "from sklearn.utils import shuffle\n",
    "from sklearn.ensemble import GradientBoostingClassifier\n",
    "%matplotlib inline"
   ]
  },
  {
   "cell_type": "code",
   "execution_count": 2,
   "metadata": {
    "colab": {},
    "colab_type": "code",
    "id": "Ac1U3ffjvOeF"
   },
   "outputs": [],
   "source": [
    "seed = 7\n",
    "numpy.random.seed(seed)"
   ]
  },
  {
   "cell_type": "code",
   "execution_count": 3,
   "metadata": {
    "colab": {
     "base_uri": "https://localhost:8080/",
     "height": 1105
    },
    "colab_type": "code",
    "id": "631u9UufmJUe",
    "outputId": "c0cb5d30-86d0-4680-9e09-04d04aee8c64"
   },
   "outputs": [],
   "source": [
    "\n",
    "df=pandas.read_csv(\"train(1).csv\")\n",
    "#df=pandas.read_csv(\"f.csv\")"
   ]
  },
  {
   "cell_type": "code",
   "execution_count": 4,
   "metadata": {},
   "outputs": [
    {
     "data": {
      "text/html": [
       "<div>\n",
       "<style scoped>\n",
       "    .dataframe tbody tr th:only-of-type {\n",
       "        vertical-align: middle;\n",
       "    }\n",
       "\n",
       "    .dataframe tbody tr th {\n",
       "        vertical-align: top;\n",
       "    }\n",
       "\n",
       "    .dataframe thead th {\n",
       "        text-align: right;\n",
       "    }\n",
       "</style>\n",
       "<table border=\"1\" class=\"dataframe\">\n",
       "  <thead>\n",
       "    <tr style=\"text-align: right;\">\n",
       "      <th></th>\n",
       "      <th>MWG</th>\n",
       "      <th>NWG</th>\n",
       "      <th>KWG</th>\n",
       "      <th>MDIMC</th>\n",
       "      <th>NDIMC</th>\n",
       "      <th>MDIMA</th>\n",
       "      <th>NDIMB</th>\n",
       "      <th>KWI</th>\n",
       "      <th>VWM</th>\n",
       "      <th>VWN</th>\n",
       "      <th>STRM</th>\n",
       "      <th>STRN</th>\n",
       "      <th>SA</th>\n",
       "      <th>SB</th>\n",
       "      <th>Run1 (ms)</th>\n",
       "      <th>Run2 (ms)</th>\n",
       "      <th>Run3 (ms)</th>\n",
       "      <th>Run4 (ms)</th>\n",
       "    </tr>\n",
       "  </thead>\n",
       "  <tbody>\n",
       "    <tr>\n",
       "      <th>0</th>\n",
       "      <td>128</td>\n",
       "      <td>128</td>\n",
       "      <td>16</td>\n",
       "      <td>16</td>\n",
       "      <td>16</td>\n",
       "      <td>16</td>\n",
       "      <td>16</td>\n",
       "      <td>2</td>\n",
       "      <td>1</td>\n",
       "      <td>1</td>\n",
       "      <td>0</td>\n",
       "      <td>0</td>\n",
       "      <td>0</td>\n",
       "      <td>0</td>\n",
       "      <td>287.87</td>\n",
       "      <td>288.66</td>\n",
       "      <td>289.45</td>\n",
       "      <td>288.24</td>\n",
       "    </tr>\n",
       "    <tr>\n",
       "      <th>1</th>\n",
       "      <td>128</td>\n",
       "      <td>128</td>\n",
       "      <td>16</td>\n",
       "      <td>16</td>\n",
       "      <td>16</td>\n",
       "      <td>16</td>\n",
       "      <td>16</td>\n",
       "      <td>2</td>\n",
       "      <td>1</td>\n",
       "      <td>1</td>\n",
       "      <td>0</td>\n",
       "      <td>0</td>\n",
       "      <td>0</td>\n",
       "      <td>1</td>\n",
       "      <td>241.13</td>\n",
       "      <td>247.84</td>\n",
       "      <td>248.27</td>\n",
       "      <td>247.49</td>\n",
       "    </tr>\n",
       "    <tr>\n",
       "      <th>2</th>\n",
       "      <td>128</td>\n",
       "      <td>128</td>\n",
       "      <td>16</td>\n",
       "      <td>16</td>\n",
       "      <td>16</td>\n",
       "      <td>16</td>\n",
       "      <td>16</td>\n",
       "      <td>2</td>\n",
       "      <td>1</td>\n",
       "      <td>1</td>\n",
       "      <td>0</td>\n",
       "      <td>0</td>\n",
       "      <td>1</td>\n",
       "      <td>1</td>\n",
       "      <td>148.12</td>\n",
       "      <td>149.99</td>\n",
       "      <td>149.90</td>\n",
       "      <td>150.14</td>\n",
       "    </tr>\n",
       "    <tr>\n",
       "      <th>3</th>\n",
       "      <td>128</td>\n",
       "      <td>128</td>\n",
       "      <td>16</td>\n",
       "      <td>16</td>\n",
       "      <td>16</td>\n",
       "      <td>16</td>\n",
       "      <td>16</td>\n",
       "      <td>2</td>\n",
       "      <td>1</td>\n",
       "      <td>1</td>\n",
       "      <td>0</td>\n",
       "      <td>1</td>\n",
       "      <td>0</td>\n",
       "      <td>0</td>\n",
       "      <td>301.40</td>\n",
       "      <td>302.43</td>\n",
       "      <td>302.70</td>\n",
       "      <td>301.94</td>\n",
       "    </tr>\n",
       "    <tr>\n",
       "      <th>4</th>\n",
       "      <td>128</td>\n",
       "      <td>128</td>\n",
       "      <td>16</td>\n",
       "      <td>16</td>\n",
       "      <td>16</td>\n",
       "      <td>16</td>\n",
       "      <td>16</td>\n",
       "      <td>2</td>\n",
       "      <td>1</td>\n",
       "      <td>1</td>\n",
       "      <td>0</td>\n",
       "      <td>1</td>\n",
       "      <td>1</td>\n",
       "      <td>0</td>\n",
       "      <td>244.74</td>\n",
       "      <td>251.80</td>\n",
       "      <td>252.15</td>\n",
       "      <td>251.04</td>\n",
       "    </tr>\n",
       "  </tbody>\n",
       "</table>\n",
       "</div>"
      ],
      "text/plain": [
       "   MWG  NWG  KWG  MDIMC  NDIMC  MDIMA  NDIMB  KWI  VWM  VWN  STRM  STRN  SA  \\\n",
       "0  128  128   16     16     16     16     16    2    1    1     0     0   0   \n",
       "1  128  128   16     16     16     16     16    2    1    1     0     0   0   \n",
       "2  128  128   16     16     16     16     16    2    1    1     0     0   1   \n",
       "3  128  128   16     16     16     16     16    2    1    1     0     1   0   \n",
       "4  128  128   16     16     16     16     16    2    1    1     0     1   1   \n",
       "\n",
       "   SB  Run1 (ms)  Run2 (ms)  Run3 (ms)  Run4 (ms)  \n",
       "0   0     287.87     288.66     289.45     288.24  \n",
       "1   1     241.13     247.84     248.27     247.49  \n",
       "2   1     148.12     149.99     149.90     150.14  \n",
       "3   0     301.40     302.43     302.70     301.94  \n",
       "4   0     244.74     251.80     252.15     251.04  "
      ]
     },
     "execution_count": 4,
     "metadata": {},
     "output_type": "execute_result"
    }
   ],
   "source": [
    "df.head()"
   ]
  },
  {
   "cell_type": "code",
   "execution_count": 5,
   "metadata": {
    "colab": {
     "base_uri": "https://localhost:8080/",
     "height": 510
    },
    "colab_type": "code",
    "id": "UF6u0vwHz4gi",
    "outputId": "174d98cf-6709-4a89-a0b5-9cd4dd5acbd9"
   },
   "outputs": [
    {
     "name": "stdout",
     "output_type": "stream",
     "text": [
      "                MWG       NWG       KWG     MDIMC     NDIMC     MDIMA  \\\n",
      "MWG        1.000000  0.001051  0.009029  0.105391 -0.008573  0.158692   \n",
      "NWG        0.001051  1.000000  0.009568 -0.006963  0.105328  0.014930   \n",
      "KWG        0.009029  0.009568  1.000000  0.147256  0.149286 -0.034504   \n",
      "MDIMC      0.105391 -0.006963  0.147256  1.000000 -0.209356  0.196806   \n",
      "NDIMC     -0.008573  0.105328  0.149286 -0.209356  1.000000  0.083896   \n",
      "MDIMA      0.158692  0.014930 -0.034504  0.196806  0.083896  1.000000   \n",
      "NDIMB      0.015913  0.158350 -0.034516  0.084195  0.196434  0.087593   \n",
      "KWI        0.000872  0.000145 -0.000664 -0.001425 -0.002619  0.000678   \n",
      "VWM        0.353168 -0.001766 -0.012001 -0.136008  0.012576 -0.203317   \n",
      "VWN       -0.001284  0.354439 -0.011291  0.010672 -0.133261 -0.019162   \n",
      "STRM       0.001054  0.001662  0.001232  0.000681 -0.000696 -0.001546   \n",
      "STRN       0.000206 -0.000050  0.000378  0.001640 -0.000477  0.001096   \n",
      "SA        -0.001419  0.001333  0.001429  0.000600  0.000015  0.000936   \n",
      "SB        -0.000209  0.000345  0.001780  0.002301 -0.002284  0.000320   \n",
      "Run1 (ms)  0.351931  0.320389  0.010811 -0.222143 -0.214985 -0.006275   \n",
      "Run2 (ms)  0.352303  0.320381  0.010450 -0.221846 -0.214693 -0.006230   \n",
      "Run3 (ms)  0.352336  0.320519  0.010459 -0.221892 -0.214597 -0.006184   \n",
      "Run4 (ms)  0.352339  0.320432  0.010415 -0.221862 -0.214641 -0.006198   \n",
      "\n",
      "              NDIMB       KWI       VWM       VWN      STRM      STRN  \\\n",
      "MWG        0.015913  0.000872  0.353168 -0.001284  0.001054  0.000206   \n",
      "NWG        0.158350  0.000145 -0.001766  0.354439  0.001662 -0.000050   \n",
      "KWG       -0.034516 -0.000664 -0.012001 -0.011291  0.001232  0.000378   \n",
      "MDIMC      0.084195 -0.001425 -0.136008  0.010672  0.000681  0.001640   \n",
      "NDIMC      0.196434 -0.002619  0.012576 -0.133261 -0.000696 -0.000477   \n",
      "MDIMA      0.087593  0.000678 -0.203317 -0.019162 -0.001546  0.001096   \n",
      "NDIMB      1.000000 -0.001316 -0.017708 -0.202883  0.001330  0.000159   \n",
      "KWI       -0.001316  1.000000 -0.000111  0.001201  0.000150 -0.000960   \n",
      "VWM       -0.017708 -0.000111  1.000000 -0.000071  0.001724 -0.001590   \n",
      "VWN       -0.202883  0.001201 -0.000071  1.000000  0.000178  0.000425   \n",
      "STRM       0.001330  0.000150  0.001724  0.000178  1.000000  0.000470   \n",
      "STRN       0.000159 -0.000960 -0.001590  0.000425  0.000470  1.000000   \n",
      "SA        -0.000687 -0.000850 -0.001095 -0.000569  0.001379  0.000789   \n",
      "SB        -0.001990 -0.001140 -0.002057  0.001277  0.000390 -0.000620   \n",
      "Run1 (ms) -0.008157  0.033795  0.164502  0.144514 -0.012128 -0.001246   \n",
      "Run2 (ms) -0.008127  0.034287  0.164584  0.144430 -0.012165 -0.001224   \n",
      "Run3 (ms) -0.008048  0.034324  0.164610  0.144464 -0.012142 -0.001238   \n",
      "Run4 (ms) -0.008095  0.034298  0.164598  0.144466 -0.012148 -0.001221   \n",
      "\n",
      "                 SA        SB  Run1 (ms)  Run2 (ms)  Run3 (ms)  Run4 (ms)  \n",
      "MWG       -0.001419 -0.000209   0.351931   0.352303   0.352336   0.352339  \n",
      "NWG        0.001333  0.000345   0.320389   0.320381   0.320519   0.320432  \n",
      "KWG        0.001429  0.001780   0.010811   0.010450   0.010459   0.010415  \n",
      "MDIMC      0.000600  0.002301  -0.222143  -0.221846  -0.221892  -0.221862  \n",
      "NDIMC      0.000015 -0.002284  -0.214985  -0.214693  -0.214597  -0.214641  \n",
      "MDIMA      0.000936  0.000320  -0.006275  -0.006230  -0.006184  -0.006198  \n",
      "NDIMB     -0.000687 -0.001990  -0.008157  -0.008127  -0.008048  -0.008095  \n",
      "KWI       -0.000850 -0.001140   0.033795   0.034287   0.034324   0.034298  \n",
      "VWM       -0.001095 -0.002057   0.164502   0.164584   0.164610   0.164598  \n",
      "VWN       -0.000569  0.001277   0.144514   0.144430   0.144464   0.144466  \n",
      "STRM       0.001379  0.000390  -0.012128  -0.012165  -0.012142  -0.012148  \n",
      "STRN       0.000789 -0.000620  -0.001246  -0.001224  -0.001238  -0.001221  \n",
      "SA         1.000000 -0.000530   0.052502   0.051838   0.051790   0.051806  \n",
      "SB        -0.000530  1.000000   0.064183   0.063923   0.063935   0.063917  \n",
      "Run1 (ms)  0.052502  0.064183   1.000000   0.999940   0.999938   0.999940  \n",
      "Run2 (ms)  0.051838  0.063923   0.999940   1.000000   0.999982   0.999983  \n",
      "Run3 (ms)  0.051790  0.063935   0.999938   0.999982   1.000000   0.999982  \n",
      "Run4 (ms)  0.051806  0.063917   0.999940   0.999983   0.999982   1.000000  \n"
     ]
    }
   ],
   "source": [
    "print(df.corr(method='pearson'))"
   ]
  },
  {
   "cell_type": "code",
   "execution_count": 6,
   "metadata": {},
   "outputs": [
    {
     "data": {
      "text/plain": [
       "MWG          0\n",
       "NWG          0\n",
       "KWG          0\n",
       "MDIMC        0\n",
       "NDIMC        0\n",
       "MDIMA        0\n",
       "NDIMB        0\n",
       "KWI          0\n",
       "VWM          0\n",
       "VWN          0\n",
       "STRM         0\n",
       "STRN         0\n",
       "SA           0\n",
       "SB           0\n",
       "Run1 (ms)    0\n",
       "Run2 (ms)    0\n",
       "Run3 (ms)    0\n",
       "Run4 (ms)    0\n",
       "dtype: int64"
      ]
     },
     "execution_count": 6,
     "metadata": {},
     "output_type": "execute_result"
    }
   ],
   "source": [
    "df.isnull().sum()"
   ]
  },
  {
   "cell_type": "code",
   "execution_count": 87,
   "metadata": {},
   "outputs": [],
   "source": [
    "X= df.iloc[:,0:14]\n",
    "y=df.iloc[:,14:15]\n"
   ]
  },
  {
   "cell_type": "code",
   "execution_count": null,
   "metadata": {},
   "outputs": [],
   "source": []
  },
  {
   "cell_type": "code",
   "execution_count": 88,
   "metadata": {},
   "outputs": [],
   "source": [
    "#we use log function which is in numpy\n",
    "y= np.log1p(y)\n"
   ]
  },
  {
   "cell_type": "code",
   "execution_count": 89,
   "metadata": {},
   "outputs": [],
   "source": [
    "rng = numpy.random.RandomState(1)"
   ]
  },
  {
   "cell_type": "code",
   "execution_count": 90,
   "metadata": {},
   "outputs": [],
   "source": [
    "#from sklearn.model_selection import train_test_split\n",
    "\n",
    "X_train, X_test, y_train, y_test = train_test_split(X.values, y.values, test_size=0.2)#, random_state=19)\n",
    "\n",
    "\n"
   ]
  },
  {
   "cell_type": "code",
   "execution_count": 91,
   "metadata": {},
   "outputs": [],
   "source": [
    "#clf= Lasso(alpha=0.00001,normalize=True,max_iter=1e5)"
   ]
  },
  {
   "cell_type": "code",
   "execution_count": 92,
   "metadata": {},
   "outputs": [],
   "source": [
    "clf = AdaBoostRegressor(RandomForestRegressor(max_depth=26),\n",
    "                          n_estimators=100, random_state=rng,learning_rate=1.0)"
   ]
  },
  {
   "cell_type": "code",
   "execution_count": 93,
   "metadata": {},
   "outputs": [],
   "source": [
    "#clf= GradientBoostingRegressor(n_estimators=50, learning_rate=0.1,\n",
    " #   max_depth=20, random_state=0, loss='ls').fit(X_train, y_train)"
   ]
  },
  {
   "cell_type": "code",
   "execution_count": null,
   "metadata": {},
   "outputs": [
    {
     "name": "stderr",
     "output_type": "stream",
     "text": [
      "/home/saurabh/anaconda3/lib/python3.6/site-packages/sklearn/utils/validation.py:578: DataConversionWarning: A column-vector y was passed when a 1d array was expected. Please change the shape of y to (n_samples, ), for example using ravel().\n",
      "  y = column_or_1d(y, warn=True)\n"
     ]
    },
    {
     "data": {
      "text/plain": [
       "AdaBoostRegressor(base_estimator=RandomForestRegressor(bootstrap=True, criterion='mse', max_depth=26,\n",
       "           max_features='auto', max_leaf_nodes=None,\n",
       "           min_impurity_decrease=0.0, min_impurity_split=None,\n",
       "           min_samples_leaf=1, min_samples_split=2,\n",
       "           min_weight_fraction_leaf=0.0, n_estimators=10, n_jobs=1,\n",
       "           oob_score=False, random_state=None, verbose=0, warm_start=False),\n",
       "         learning_rate=1.0, loss='linear', n_estimators=100,\n",
       "         random_state=<mtrand.RandomState object at 0x7f5591e12f78>)"
      ]
     },
     "execution_count": 94,
     "metadata": {},
     "output_type": "execute_result"
    }
   ],
   "source": [
    "#clf = RandomForestRegressor(n_estimators=1000,max_depth=8, random_state=0)\n",
    "clf.fit(X_train, y_train)\n",
    "#clf.fit(X, y)"
   ]
  },
  {
   "cell_type": "code",
   "execution_count": null,
   "metadata": {},
   "outputs": [],
   "source": [
    "predictions = clf.predict(X_test)\n",
    "#predictions=numpy.expm1(predictions)\n",
    "    # Evaluate the model\n",
    "rms = sqrt(mean_squared_error(y_test, predictions))\n",
    "#model.score(X,Y)\n",
    "\n",
    "    #mae = mean_absolute_error(predictions, Y)\n",
    "   # print(\"%s: %.2f%%\" % (model.metrics_names[1], scores[1]*100))\n",
    "    #results.append(mae)\n",
    "    #names.append(name)\n",
    "    \n",
    "    #msg = \"%s: %f (%f)\" % (name, score, mae)\n",
    "    #print(msg)\n",
    "print(rms)\n",
    "#predictions"
   ]
  },
  {
   "cell_type": "code",
   "execution_count": null,
   "metadata": {},
   "outputs": [],
   "source": []
  },
  {
   "cell_type": "code",
   "execution_count": null,
   "metadata": {
    "colab": {
     "base_uri": "https://localhost:8080/",
     "height": 68
    },
    "colab_type": "code",
    "id": "7XUr16vU3hMe",
    "outputId": "8530a330-39be-4c05-ffb5-304c560242cd"
   },
   "outputs": [],
   "source": [
    "test=pandas.read_csv(\"test.csv\")"
   ]
  },
  {
   "cell_type": "code",
   "execution_count": null,
   "metadata": {},
   "outputs": [],
   "source": [
    "test.head()"
   ]
  },
  {
   "cell_type": "code",
   "execution_count": null,
   "metadata": {},
   "outputs": [],
   "source": [
    "test.shape"
   ]
  },
  {
   "cell_type": "code",
   "execution_count": null,
   "metadata": {},
   "outputs": [],
   "source": [
    "test1= test.iloc[:,1:16]\n",
    "#y=df.iloc[:,14:15]"
   ]
  },
  {
   "cell_type": "code",
   "execution_count": null,
   "metadata": {},
   "outputs": [],
   "source": [
    "predictions = clf.predict(test1)\n",
    "predictions=predictions*2\n",
    "predictions=numpy.expm1(predictions)\n",
    "    # Evaluate the model\n",
    "#rms = sqrt(mean_squared_error(y, predictions))\n",
    "#model.score(X,Y)\n",
    "\n",
    "    #mae = mean_absolute_error(predictions, Y)\n",
    "   # print(\"%s: %.2f%%\" % (model.metrics_names[1], scores[1]*100))\n",
    "    #results.append(mae)\n",
    "    #names.append(name)\n",
    "    \n",
    "    #msg = \"%s: %f (%f)\" % (name, score, mae)\n",
    "    #print(msg)\n",
    "#print(rms)\n",
    "#predictions"
   ]
  },
  {
   "cell_type": "code",
   "execution_count": null,
   "metadata": {
    "colab": {
     "base_uri": "https://localhost:8080/",
     "height": 914
    },
    "colab_type": "code",
    "id": "9Ry9207EVsEq",
    "outputId": "524af8ee-7dfa-4450-9323-92b5d888a5eb"
   },
   "outputs": [],
   "source": [
    "#ans=pandas.read_csv(\"ans.csv\")\n",
    "ans=pandas.read_csv(\"mytest.csv\")\n",
    "#sampleSubmission = .values\n",
    "# print(ans)\n",
    "\n",
    "#X =sampleSubmission[:,0:1]\n",
    "raw_data={'Run2 (ms)' : predictions}\n",
    "#@ID={'Id':X}\n",
    "#ans.insert(1,'area', predictions, allow_duplicates=True)\n",
    "s = pandas.DataFrame(raw_data, columns = ['Run2 (ms)'])\n",
    "ans=pandas.concat([ans,s],axis=1)\n",
    "#ans['area'] = predictions\n",
    "ans.to_csv('mytest.csv')"
   ]
  },
  {
   "cell_type": "code",
   "execution_count": null,
   "metadata": {
    "colab": {
     "base_uri": "https://localhost:8080/",
     "height": 1969
    },
    "colab_type": "code",
    "id": "Lg9ZUCCtkzzt",
    "outputId": "0456073a-c94c-4259-fe95-7c2faf5cb233"
   },
   "outputs": [],
   "source": []
  },
  {
   "cell_type": "code",
   "execution_count": null,
   "metadata": {
    "colab": {},
    "colab_type": "code",
    "id": "BAhOlcg6cYKw"
   },
   "outputs": [],
   "source": [
    "#anss=pandas.read_csv(\"myteam.csv\")\n"
   ]
  },
  {
   "cell_type": "code",
   "execution_count": null,
   "metadata": {},
   "outputs": [],
   "source": []
  }
 ],
 "metadata": {
  "accelerator": "GPU",
  "colab": {
   "collapsed_sections": [],
   "name": "forest_fire.ipynb",
   "provenance": [],
   "version": "0.3.2"
  },
  "kernelspec": {
   "display_name": "Python 3",
   "language": "python",
   "name": "python3"
  },
  "language_info": {
   "codemirror_mode": {
    "name": "ipython",
    "version": 3
   },
   "file_extension": ".py",
   "mimetype": "text/x-python",
   "name": "python",
   "nbconvert_exporter": "python",
   "pygments_lexer": "ipython3",
   "version": "3.6.4"
  }
 },
 "nbformat": 4,
 "nbformat_minor": 1
}
